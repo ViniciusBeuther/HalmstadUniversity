{
 "cells": [
  {
   "cell_type": "code",
   "execution_count": 1,
   "id": "11c57a73",
   "metadata": {},
   "outputs": [],
   "source": [
    "import numpy as np\n",
    "import matplotlib.pyplot as plt\n",
    "import sympy as sym"
   ]
  },
  {
   "cell_type": "markdown",
   "id": "229b2c05",
   "metadata": {},
   "source": [
    "# Exersice 1\n",
    "\n",
    "1- Use sympy to calculate the Jocobian of the following functions\n",
    "\n",
    "- $f(x) = x^2 + y^2$\n",
    "- $f(x) = \\frac{sin(10(x^2+y^2))}{10}$\n",
    "- $f(x) = (x^2 + y^2)^{(0.5)}$\n",
    "- $f(x) = \\frac{sin(5x)cos(5y)}{5}$\n",
    "\n",
    "2- Plot the functions"
   ]
  },
  {
   "cell_type": "markdown",
   "id": "3c2d41e5",
   "metadata": {},
   "source": [
    "# Exersice 2\n",
    "\n",
    "1- Use sympy to calculate the Hessian of the following functions\n",
    "\n",
    "- $f(x) = x^2 + y^2$\n",
    "- $f(x) = \\frac{sin(10(x^2+y^2))}{10}$\n",
    "- $f(x) = (x^2 + y^2)^{(0.5)}$\n",
    "- $f(x) = \\frac{sin(5x)cos(5y)}{5}$\n"
   ]
  },
  {
   "cell_type": "markdown",
   "id": "1135587c",
   "metadata": {},
   "source": [
    "# Exersice 3\n",
    "\n",
    "<img src=\"./images/NN.png\" width=400 height=400 />\n",
    "\n",
    "The sig function in the shown neural network is defined as follows:\n",
    "\n",
    "$f(x) = \\frac{1}{1+e^{-x}}$\n",
    "\n",
    "each node with Sum symbol inside does the following type of calculation (for example the left top neuorn):\n",
    "\n",
    "$z_1 = w_1x + b_1 $\n",
    "\n",
    "The loss function for the netrowk is defined as follows:\n",
    "\n",
    "$E(x,y,w_1,w_2,w_3,w_4,b_1,b_2,b_3) = \\Sigma_{i=1}^{n} (\\hat{y_i} - y_i)^2$\n",
    "\n",
    "1- Calculate the derivative of the loss function with respect to all parameters\n",
    "\n",
    "2- use the following formula update the parameters acccording to the calculated gradient\n",
    "\n",
    "$w = w - lr\\frac{dE}{dw}$\n",
    "\n",
    "$w$ can be replaced by any parameters in your network\n",
    "start with a very small learning rate. For example le = 0.01\n",
    "\n",
    "For the dataset to train the network use the following set of (x,y) points\n",
    "\n",
    "3- From the 500 data points generated below, use 300 randomly selected for training and the rest 200 points for testing the performace of the network\n",
    "\n",
    "4- Plot the predicted values agaist the actual values\n",
    "\n",
    "5- Use mean square error to checck the error of your trained network"
   ]
  },
  {
   "cell_type": "code",
   "execution_count": 15,
   "id": "e0a5fcd9",
   "metadata": {},
   "outputs": [],
   "source": [
    "x = np.linspace(-3,5,500)\n",
    "y = 1/(1+np.e**(-x)) + 1/(1+np.e**(-(3-x))) "
   ]
  },
  {
   "cell_type": "code",
   "execution_count": 16,
   "id": "32a44989",
   "metadata": {},
   "outputs": [
    {
     "data": {
      "text/plain": [
       "[<matplotlib.lines.Line2D at 0x7fc4f1134520>]"
      ]
     },
     "execution_count": 16,
     "metadata": {},
     "output_type": "execute_result"
    },
    {
     "data": {
      "image/png": "[encoded data removed]",
      "text/plain": [
       "<Figure size 432x288 with 1 Axes>"
      ]
     },
     "metadata": {
      "needs_background": "light"
     },
     "output_type": "display_data"
    }
   ],
   "source": [
    "plt.plot(x,y)"
   ]
  },
  {
   "cell_type": "code",
   "execution_count": null,
   "id": "92cfa3b9",
   "metadata": {},
   "outputs": [],
   "source": []
  }
 ],
 "metadata": {
  "kernelspec": {
   "display_name": "Python 3",
   "language": "python",
   "name": "python3"
  },
  "language_info": {
   "codemirror_mode": {
    "name": "ipython",
    "version": 3
   },
   "file_extension": ".py",
   "mimetype": "text/x-python",
   "name": "python",
   "nbconvert_exporter": "python",
   "pygments_lexer": "ipython3",
   "version": "3.8.8"
  }
 },
 "nbformat": 4,
 "nbformat_minor": 5
}
