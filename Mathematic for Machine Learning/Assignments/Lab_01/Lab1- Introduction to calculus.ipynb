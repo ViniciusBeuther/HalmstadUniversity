{
 "cells": [
  {
   "cell_type": "code",
   "execution_count": null,
   "id": "299d9ed1",
   "metadata": {},
   "outputs": [],
   "source": [
    "import numpy as np\n",
    "import matplotlib.pyplot as plt"
   ]
  },
  {
   "cell_type": "markdown",
   "id": "4b14ff72",
   "metadata": {},
   "source": [
    "# Ploting 1D functions"
   ]
  },
  {
   "cell_type": "code",
   "execution_count": null,
   "id": "c14f4d3b",
   "metadata": {},
   "outputs": [],
   "source": [
    "x = np.arange(-5,5,.1)"
   ]
  },
  {
   "cell_type": "code",
   "execution_count": null,
   "id": "fc2d6043",
   "metadata": {},
   "outputs": [],
   "source": [
    "y = np.sin(x)"
   ]
  },
  {
   "cell_type": "code",
   "execution_count": null,
   "id": "42b602c5",
   "metadata": {},
   "outputs": [],
   "source": [
    "plt.plot(x,y)\n",
    "plt.xlabel('x')\n",
    "plt.ylabel('y')\n",
    "plt.title('sin(x)')"
   ]
  },
  {
   "cell_type": "markdown",
   "id": "15e6ffa5",
   "metadata": {},
   "source": [
    "---"
   ]
  },
  {
   "cell_type": "markdown",
   "id": "8e430bec",
   "metadata": {},
   "source": [
    "# Exersice 1 \n",
    "1.1 Plot the following functions \\\n",
    "1.2 Calculate their derivatives manually \\\n",
    "1.3 Plot their derivatives on the same plot\n",
    "\n",
    "\n",
    "- $f(x) = 5x + 2$\n",
    "- $f(x) = 6x^2$\n",
    "- $\\frac{cos(2x+6)}{e^{6x}}$"
   ]
  },
  {
   "cell_type": "code",
   "execution_count": null,
   "id": "91e0252e",
   "metadata": {},
   "outputs": [],
   "source": [
    "# 1.1 Plot the functions"
   ]
  },
  {
   "cell_type": "code",
   "execution_count": null,
   "id": "eb8fedd8",
   "metadata": {},
   "outputs": [],
   "source": [
    "# 1.2 Calculate their derivatives using pen and paper and attach photo of your calculation here"
   ]
  },
  {
   "cell_type": "code",
   "execution_count": null,
   "id": "e68a147f",
   "metadata": {},
   "outputs": [],
   "source": [
    "# 1.3 Plot the derivatives and the original functions overlaid"
   ]
  },
  {
   "cell_type": "markdown",
   "id": "2dea6877",
   "metadata": {},
   "source": [
    "---"
   ]
  },
  {
   "cell_type": "markdown",
   "id": "539aa667",
   "metadata": {},
   "source": [
    "# Symbolic derivatives in Python"
   ]
  },
  {
   "cell_type": "code",
   "execution_count": null,
   "id": "baa494ec",
   "metadata": {},
   "outputs": [],
   "source": [
    "import sympy as sym"
   ]
  },
  {
   "cell_type": "code",
   "execution_count": null,
   "id": "849ce66d",
   "metadata": {},
   "outputs": [],
   "source": [
    "x = sym.Symbol('x')\n",
    "\n",
    "f = 2*(x**2)+3"
   ]
  },
  {
   "cell_type": "code",
   "execution_count": null,
   "id": "e4e0a6aa",
   "metadata": {},
   "outputs": [],
   "source": [
    "f.subs(x,5) #substituting function agrgument with a specific value"
   ]
  },
  {
   "cell_type": "code",
   "execution_count": null,
   "id": "f35126a1",
   "metadata": {},
   "outputs": [],
   "source": [
    "dfdx = f.diff(x) # calculating derivative of the function\n",
    "dfdx"
   ]
  },
  {
   "cell_type": "markdown",
   "id": "11049787",
   "metadata": {},
   "source": [
    "---"
   ]
  },
  {
   "cell_type": "markdown",
   "id": "17685c5b",
   "metadata": {},
   "source": [
    "# Exersice 2 \n",
    "1.1 Plot the following functions \\\n",
    "1.2 Calculate their derivatives using sympy \\\n",
    "1.3 Plot their derivatives on the same plot\n",
    "\n",
    "\n",
    "- $f(x) = \\frac{sin(x)}{x}$\n",
    "- $f(x) = \\frac{1}{1+e^{(-x)}}$"
   ]
  },
  {
   "cell_type": "code",
   "execution_count": null,
   "id": "d8d89aa8",
   "metadata": {},
   "outputs": [],
   "source": [
    "# 2.1 Plot the functions"
   ]
  },
  {
   "cell_type": "code",
   "execution_count": 1,
   "id": "d1f40207",
   "metadata": {},
   "outputs": [],
   "source": [
    "# 2.2 Calculate their derivatives using sympy"
   ]
  },
  {
   "cell_type": "code",
   "execution_count": null,
   "id": "92324fec",
   "metadata": {},
   "outputs": [],
   "source": [
    "# 2.3 Plot the derivatives and the original functions overlaid"
   ]
  },
  {
   "cell_type": "markdown",
   "id": "3297f91f",
   "metadata": {},
   "source": [
    "---"
   ]
  },
  {
   "cell_type": "markdown",
   "id": "795c9cac",
   "metadata": {},
   "source": [
    "# Exersice 3\n",
    "\n",
    "-  Write a function that calculates numerical derivation without using symbolic computation\n",
    "The function received $\\Delta x$ and a function and the point around which the derivative will be calculated.\n",
    "\n",
    "- Apply the function on the following functions to get calculate derivatives as some specific arbitrary points and compare the results with symbolic calculation (try for multiple value of $\\Delta x$ to see the effect of the resolution of it\n",
    "\n",
    "\n",
    "- $f(x) = 5x + 2$\n",
    "- $f(x) = 6x^2$\n",
    "- $f(x) = \\frac{cos(2x+6)}{e^{6x}}$"
   ]
  },
  {
   "cell_type": "code",
   "execution_count": null,
   "id": "18cc213c",
   "metadata": {},
   "outputs": [],
   "source": [
    "# function that calculates numerical derivation\n",
    "# input arguments: func,delta_x, point"
   ]
  },
  {
   "cell_type": "code",
   "execution_count": null,
   "id": "4e36105d",
   "metadata": {},
   "outputs": [],
   "source": [
    "# apply the numerical derivation function on the provided functions"
   ]
  },
  {
   "cell_type": "code",
   "execution_count": null,
   "id": "f90a306e",
   "metadata": {},
   "outputs": [],
   "source": [
    "# calculate the derivatives for the same points and compare them to the results from the numerical derivation"
   ]
  }
 ],
 "metadata": {
  "kernelspec": {
   "display_name": "Python 3 (ipykernel)",
   "language": "python",
   "name": "python3"
  },
  "language_info": {
   "codemirror_mode": {
    "name": "ipython",
    "version": 3
   },
   "file_extension": ".py",
   "mimetype": "text/x-python",
   "name": "python",
   "nbconvert_exporter": "python",
   "pygments_lexer": "ipython3",
   "version": "3.11.3"
  }
 },
 "nbformat": 4,
 "nbformat_minor": 5
}
